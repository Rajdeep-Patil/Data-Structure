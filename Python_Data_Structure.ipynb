{
  "nbformat": 4,
  "nbformat_minor": 0,
  "metadata": {
    "colab": {
      "provenance": []
    },
    "kernelspec": {
      "name": "python3",
      "display_name": "Python 3"
    },
    "language_info": {
      "name": "python"
    }
  },
  "cells": [
    {
      "cell_type": "markdown",
      "source": [
        "Que 1.) What are data structures, and why are they important ?\n",
        "\n",
        "Ans= Data Structure is a way of organizing and storing data so that it can be accessed and manipulated and efficiently. Python provide many data structre like\n",
        "List, Tuple, Set, String and dictionary.\n",
        "\n",
        "Importance of data structrue:\n",
        "\n",
        "(1) Choosing the right data structure significantly impacts the efficiency and performance of your program.\n",
        "\n",
        "(2) Well-chosen data structures can:\n",
        "\n",
        "(3) Simplify data manipulation (adding, removing, modifying elements)\n",
        "\n",
        "(4) Optimize searching and sorting operations\n",
        "\n",
        "(5) Conserve memory usage"
      ],
      "metadata": {
        "id": "l3hdISJ10Yp_"
      }
    },
    {
      "cell_type": "code",
      "source": [],
      "metadata": {
        "id": "iUS73IQKi-k-"
      },
      "execution_count": null,
      "outputs": []
    },
    {
      "cell_type": "markdown",
      "source": [
        "Que 2.) Explain the difference between mutable and immutable data types with examples ?\n",
        "\n",
        "Ans= (1) Mutable object, such as List, Set and dictionary can be modified after creation.\n",
        "\n",
        "example: 1 List"
      ],
      "metadata": {
        "id": "KMFQtPJ52NGP"
      }
    },
    {
      "cell_type": "code",
      "source": [
        "List1=[1,2,6,4,5]\n",
        "List1[2]=6 # List are modify after creation.\n",
        "print(List1)"
      ],
      "metadata": {
        "colab": {
          "base_uri": "https://localhost:8080/"
        },
        "id": "6u0iQz393NIx",
        "outputId": "8a8a4194-27a9-4fd9-bbc5-89b68bf2b710"
      },
      "execution_count": null,
      "outputs": [
        {
          "output_type": "stream",
          "name": "stdout",
          "text": [
            "[1, 2, 6, 4, 5]\n"
          ]
        }
      ]
    },
    {
      "cell_type": "code",
      "source": [
        "# Example: 2 Set\n",
        "Set1={1,2,6,4,5}\n",
        "Set1.add(3) # Set are modify after creation.\n",
        "print(Set1)"
      ],
      "metadata": {
        "colab": {
          "base_uri": "https://localhost:8080/"
        },
        "id": "pW0SS6kR3p-Z",
        "outputId": "07ecf0c5-8b5a-498c-c353-d31902adcedb"
      },
      "execution_count": null,
      "outputs": [
        {
          "output_type": "stream",
          "name": "stdout",
          "text": [
            "{1, 2, 3, 4, 5, 6}\n"
          ]
        }
      ]
    },
    {
      "cell_type": "code",
      "source": [
        "# Example:3 dictionary\n",
        "Dict1={\"Name\":\"Raj\",\"Class\":\"12th\"}\n",
        "Dict1[\"Name\"]=\"Rajdeep\" # dictionary are Modify after creation.\n",
        "print(Dict1)"
      ],
      "metadata": {
        "colab": {
          "base_uri": "https://localhost:8080/"
        },
        "id": "FfjNwwRp4Onf",
        "outputId": "48407bf1-a9d1-4d27-a0cc-baf43a581bf1"
      },
      "execution_count": null,
      "outputs": [
        {
          "output_type": "stream",
          "name": "stdout",
          "text": [
            "{'Name': 'Rajdeep', 'Class': '12th'}\n"
          ]
        }
      ]
    },
    {
      "cell_type": "markdown",
      "source": [
        "(2) Immutable object, such as tuple, String can not be modified after creation.\n",
        "  Immutable Object use less memory because of immutability.\n",
        "\n",
        "Example: 1 tuple"
      ],
      "metadata": {
        "id": "SJKYzs3B5EFX"
      }
    },
    {
      "cell_type": "code",
      "source": [
        "tuple1=(1,2,6,4,5)\n",
        "tuple1[2]=6  # 'tuple' object does not support item assignment [Because tuple is immutable]\n",
        "print(tuple1)"
      ],
      "metadata": {
        "colab": {
          "base_uri": "https://localhost:8080/",
          "height": 176
        },
        "id": "EVDEf8R555j9",
        "outputId": "addc3871-64b8-49c0-81ad-4fb42fa22cdf"
      },
      "execution_count": null,
      "outputs": [
        {
          "output_type": "error",
          "ename": "TypeError",
          "evalue": "'tuple' object does not support item assignment",
          "traceback": [
            "\u001b[0;31m---------------------------------------------------------------------------\u001b[0m",
            "\u001b[0;31mTypeError\u001b[0m                                 Traceback (most recent call last)",
            "\u001b[0;32m<ipython-input-6-70d3db17b489>\u001b[0m in \u001b[0;36m<cell line: 0>\u001b[0;34m()\u001b[0m\n\u001b[1;32m      1\u001b[0m \u001b[0mtuple1\u001b[0m\u001b[0;34m=\u001b[0m\u001b[0;34m(\u001b[0m\u001b[0;36m1\u001b[0m\u001b[0;34m,\u001b[0m\u001b[0;36m2\u001b[0m\u001b[0;34m,\u001b[0m\u001b[0;36m6\u001b[0m\u001b[0;34m,\u001b[0m\u001b[0;36m4\u001b[0m\u001b[0;34m,\u001b[0m\u001b[0;36m5\u001b[0m\u001b[0;34m)\u001b[0m\u001b[0;34m\u001b[0m\u001b[0;34m\u001b[0m\u001b[0m\n\u001b[0;32m----> 2\u001b[0;31m \u001b[0mtuple1\u001b[0m\u001b[0;34m[\u001b[0m\u001b[0;36m2\u001b[0m\u001b[0;34m]\u001b[0m\u001b[0;34m=\u001b[0m\u001b[0;36m6\u001b[0m\u001b[0;34m\u001b[0m\u001b[0;34m\u001b[0m\u001b[0m\n\u001b[0m\u001b[1;32m      3\u001b[0m \u001b[0mprint\u001b[0m\u001b[0;34m(\u001b[0m\u001b[0mtuple1\u001b[0m\u001b[0;34m)\u001b[0m\u001b[0;34m\u001b[0m\u001b[0;34m\u001b[0m\u001b[0m\n",
            "\u001b[0;31mTypeError\u001b[0m: 'tuple' object does not support item assignment"
          ]
        }
      ]
    },
    {
      "cell_type": "code",
      "source": [
        "# Example: 2 String\n",
        "str1=\"Rajbeep\"\n",
        "str1[3]=\"d\"  # 'str' object does not support item assignment [Because of string is immutable]\n",
        "print(str1)"
      ],
      "metadata": {
        "colab": {
          "base_uri": "https://localhost:8080/",
          "height": 193
        },
        "id": "ez1amg1i6FHv",
        "outputId": "318e6e14-242a-4188-b448-08753633d9bd"
      },
      "execution_count": null,
      "outputs": [
        {
          "output_type": "error",
          "ename": "TypeError",
          "evalue": "'str' object does not support item assignment",
          "traceback": [
            "\u001b[0;31m---------------------------------------------------------------------------\u001b[0m",
            "\u001b[0;31mTypeError\u001b[0m                                 Traceback (most recent call last)",
            "\u001b[0;32m<ipython-input-8-99808af79808>\u001b[0m in \u001b[0;36m<cell line: 0>\u001b[0;34m()\u001b[0m\n\u001b[1;32m      1\u001b[0m \u001b[0;31m# Example: 2 String\u001b[0m\u001b[0;34m\u001b[0m\u001b[0;34m\u001b[0m\u001b[0m\n\u001b[1;32m      2\u001b[0m \u001b[0mstr1\u001b[0m\u001b[0;34m=\u001b[0m\u001b[0;34m\"Rajbeep\"\u001b[0m\u001b[0;34m\u001b[0m\u001b[0;34m\u001b[0m\u001b[0m\n\u001b[0;32m----> 3\u001b[0;31m \u001b[0mstr1\u001b[0m\u001b[0;34m[\u001b[0m\u001b[0;36m3\u001b[0m\u001b[0;34m]\u001b[0m\u001b[0;34m=\u001b[0m\u001b[0;34m\"d\"\u001b[0m\u001b[0;34m\u001b[0m\u001b[0;34m\u001b[0m\u001b[0m\n\u001b[0m\u001b[1;32m      4\u001b[0m \u001b[0mprint\u001b[0m\u001b[0;34m(\u001b[0m\u001b[0mstr1\u001b[0m\u001b[0;34m)\u001b[0m\u001b[0;34m\u001b[0m\u001b[0;34m\u001b[0m\u001b[0m\n",
            "\u001b[0;31mTypeError\u001b[0m: 'str' object does not support item assignment"
          ]
        }
      ]
    },
    {
      "cell_type": "markdown",
      "source": [
        "Que 3.) What are the main differences between lists and tuples in Python ?\n",
        "\n",
        "Ans= (1) List can be changed by adding and removing element. because List is Mutable.\n",
        "\n",
        "tuple can not be changed by adding and removing element. because Tuple is Immutable.\n",
        "\n",
        "(2) List can be defined using Square bracket.\n",
        "\n",
        "Tuple can be defined using parentheses.\n",
        "\n",
        "(3) List is slower due to dynamic size and mutability.\n",
        "\n",
        "tuple is faster due to static size and immutability.\n",
        "\n",
        "(4) List have many built-in method like append, pop, remove, reverse, clear, extend etc.\n",
        "\n",
        "Tuple have less built-in method like count, index.\n",
        "\n",
        "(5) List consume more memory due to mutability.\n",
        "\n",
        "tuple consume less memory due to immutability."
      ],
      "metadata": {
        "id": "Ar-MyKLT7Cnq"
      }
    },
    {
      "cell_type": "markdown",
      "source": [
        "Que 4.) Describe how dictionaries store data ?\n",
        "\n",
        "Ans= a dictionary stores data in pairs, and each pair has:\n",
        "\n",
        "A key (like the toy's name).\n",
        "A value (like the toy's color or type).\n",
        "\n",
        "For example:"
      ],
      "metadata": {
        "id": "UtE_oKBQ976P"
      }
    },
    {
      "cell_type": "code",
      "source": [
        "toys = {\n",
        "    \"car\": \"red\",      # The key is \"car\" and the value is \"red\"\n",
        "    \"doll\": \"pink\",    # The key is \"doll\" and the value is \"pink\"\n",
        "    \"ball\": \"blue\"     # The key is \"ball\" and the value is \"blue\"\n",
        "}\n",
        "print(toys)"
      ],
      "metadata": {
        "colab": {
          "base_uri": "https://localhost:8080/"
        },
        "id": "MhGujnzy95MV",
        "outputId": "6954cf12-3ded-4716-b8c6-10572735657b"
      },
      "execution_count": null,
      "outputs": [
        {
          "output_type": "stream",
          "name": "stdout",
          "text": [
            "{'car': 'red', 'doll': 'pink', 'ball': 'blue'}\n"
          ]
        }
      ]
    },
    {
      "cell_type": "markdown",
      "source": [],
      "metadata": {
        "id": "uD_IA2M-_E67"
      }
    },
    {
      "cell_type": "markdown",
      "source": [
        "Que 5.) Why might you use a set instead of a list in Python ?\n",
        "\n",
        "Ans= (1)Set automatically ensures that all the items are unique. If you try to add the same item more than once, it won't be added again.\n",
        "\n",
        "List allows duplicate items, so if you add the same item multiple times, it will appear multiple times.\n",
        "\n",
        "(2)Set is much faster when you need to check if an item is present or not because it uses a special technique called hashing.\n",
        "\n",
        "List checks for membership one item at a time, so it can be slower for large lists\n",
        "\n",
        "(3)Set provides useful mathematical operations like union, intersection, difference, and subset checks that make working with sets of data easier.\n",
        "\n",
        "These operations are not as easy to do with a list.\n",
        "\n",
        "(4)Set does not maintain the order of the items. This might be fine if you only care about the values and not the order.\n",
        "\n",
        "List maintains the order of the elements, which is useful when you need to keep track of the sequence of data."
      ],
      "metadata": {
        "id": "8-ydkFgx_GfY"
      }
    },
    {
      "cell_type": "markdown",
      "source": [],
      "metadata": {
        "id": "T6OMhk_qAaG_"
      }
    },
    {
      "cell_type": "markdown",
      "source": [
        "Que 6.) What is a string in Python, and how is it different from a list ?\n",
        "\n",
        "Ans= String is a sequence of character that represent and manipulate textual data.String is a immutable its mean string can not change and add. String have many built-in method like strip, upper, lower, startswith, endswith, count, isnum, isalnum, isdigit, isnumerice etc. String are define by using \"\", '', ''''''.String can not be stored Heterogeneous Data.\n",
        "\n",
        "\n",
        "List=> On the other hand, List is ordered collection of items.List is mutable\n",
        "its means List can change and add.List have many Built-in method like append, remove, pop, reverse, extend etc. List are define by using square bracket [ ].\n",
        "List can be stored Heterogeneous Data."
      ],
      "metadata": {
        "id": "3F6JfskEAdWK"
      }
    },
    {
      "cell_type": "markdown",
      "source": [
        "Que 7.) How do tuples ensure data integrity in Python ?\n",
        "\n",
        "Ans=Once a tuple is created, you cannot change its contents. This means you cannot add, remove, or modify elements inside a tuple after it is created.\n",
        "Since tuples cannot be changed once created, the data inside them is protected from accidental modification.Tuples are hashable, which means they can be used as keys in dictionaries or stored in sets. This is another feature that comes from their immutability."
      ],
      "metadata": {
        "id": "cADL_wICGdjk"
      }
    },
    {
      "cell_type": "markdown",
      "source": [],
      "metadata": {
        "id": "Yd6uWcV1I2JM"
      }
    },
    {
      "cell_type": "markdown",
      "source": [
        "Que 8.) What is a hash table, and how does it relate to dictionaries in Python ?\n",
        "\n",
        "Ans= A hash table is a data structure that allows for efficient storage and retrieval of data using a method called hashing. The idea behind a hash table is to store data in an array-like structure where each element is placed at an index determined by a hash function."
      ],
      "metadata": {
        "id": "b5nra2kHI3gK"
      }
    },
    {
      "cell_type": "markdown",
      "source": [
        "Que 9.) Can lists contain different data types in Python ?\n",
        "\n",
        "Ans= Yes, in Python, lists can contain different data types. A list is a heterogeneous collection, meaning it can store items of various types, including integers, strings, floats, booleans, other lists, and even custom objects."
      ],
      "metadata": {
        "id": "flW0PWc6Nv_z"
      }
    },
    {
      "cell_type": "markdown",
      "source": [
        "Que 10.) Explain why strings are immutable in Python ?\n",
        "\n",
        "Ans= Strings are immutable, meaning once a string is created, it cannot be modified. There are several reasons behind this immutability.\n",
        "\n",
        "(1) Efficiency and Performance\n",
        "(2) Data Integrity and Security\n",
        "(3)Simplicity and String Interning"
      ],
      "metadata": {
        "id": "AQM09o7vOH5-"
      }
    },
    {
      "cell_type": "markdown",
      "source": [
        "Que 11.) What advantages do dictionaries offer over lists for certain tasks ?\n",
        "  \n",
        "Ans= Dictionaries in Python offer several advantages over lists, especially for tasks that require fast lookups, unique key-value pair mappings, or organization of data in a more structured way.\n",
        "\n",
        "(1) Fast Lookups by Key (Constant Time Complexity)\n",
        "\n",
        "(2) Storing and Retrieving Data with Unique Keys\n",
        "\n",
        "(3) Key Uniqueness and Mapping Complex Data\n",
        "\n",
        "(4) Inserting and Deleting Elements and Ordering of Elements"
      ],
      "metadata": {
        "id": "2WdVnttAO7u6"
      }
    },
    {
      "cell_type": "markdown",
      "source": [
        "Que 12.)  Describe a scenario where using a tuple would be preferable over a list ?\n",
        "\n",
        "Ans= A scenario where using a tuple would be preferable over a list is when you need to store immutable data that should not be changed after its creation. Since tuples are immutable (their contents cannot be altered after they are created), they are ideal for cases where data integrity must be preserved, and you want to ensure that the data remains constant throughout the program."
      ],
      "metadata": {
        "id": "6fA64VlfP44z"
      }
    },
    {
      "cell_type": "markdown",
      "source": [
        "Que 13.) How do sets handle duplicate values in Python ?\n",
        "\n",
        "Ans=  sets automatically remove duplicates and store only unique values. A set is an unordered collection of elements, and it does not allow repeated values. When you try to add a duplicate value to a set, it simply ignores the new entry and keeps the original one.\n",
        "\n",
        "When you add elements to a set, if the element is already present, it will not be added again.\n",
        "\n",
        "This is because a set is designed to ensure uniqueness and cannot have duplicate items."
      ],
      "metadata": {
        "id": "KOOpUEhkQl6O"
      }
    },
    {
      "cell_type": "markdown",
      "source": [
        "Que 14.) How does the “in” keyword work differently for lists and dictionaries ?\n",
        "\n",
        "Ans= The in keyword in Python is used to check for membership, but it works differently depending on whether you're using a list or a dictionary.\n",
        "\n",
        "1. For Lists:\n",
        "When you use the in keyword with a list, it checks if the value you are looking for is present in the list. It searches through the list to find the item and returns True if the value is found, otherwise False.\n",
        "\n",
        "2. For Dictionaries:\n",
        "When you use the in keyword with a dictionary, it checks for the presence of the key in the dictionary, not the value. It returns True if the key is found in the dictionary and False otherwise."
      ],
      "metadata": {
        "id": "NQCO-gnvRHwH"
      }
    },
    {
      "cell_type": "markdown",
      "source": [
        "Que 15.) Can you modify the elements of a tuple? Explain why or why not ?\n",
        "\n",
        "Ans= you cannot modify the elements of a tuple in Python. This is because tuples are immutable.\n",
        "\n",
        "Immutability means that once a tuple is created, its contents cannot be changed. You cannot add, remove, or modify individual elements in a tuple after it has been created."
      ],
      "metadata": {
        "id": "Vt4kMTqjSPZ7"
      }
    },
    {
      "cell_type": "markdown",
      "source": [
        "Que 16.) What is a nested dictionary, and give an example of its use case ?\n",
        "\n",
        "Ans= A nested dictionary in Python is a dictionary where the values of one or more keys are themselves dictionaries. This allows you to represent more complex data structures, such as multi-level mappings or hierarchical data, within a dictionary.\n",
        "\n",
        "A nested dictionary is a dictionary where some values are dictionaries themselves. You can access elements inside a nested dictionary using multiple keys (like drilling down into the layers)."
      ],
      "metadata": {
        "id": "PkC7nujqSx8A"
      }
    },
    {
      "cell_type": "markdown",
      "source": [
        "Que 17.) Describe the time complexity of accessing elements in a dictionary ?\n",
        "\n",
        "ans= The time complexity of accessing elements in a Python dictionary is O(1) on average. This means that looking up an element by its key takes constant time, regardless of the number of elements in the dictionary."
      ],
      "metadata": {
        "id": "tEo5LZrWTOfz"
      }
    },
    {
      "cell_type": "markdown",
      "source": [
        "Que 18.)  In what situations are lists preferred over dictionaries ?\n",
        "\n",
        "Ans= lists and dictionaries serve different purposes, and the choice between them depends on the specific use case and the type of data you are working with. Lists are preferred over dictionaries in certain situations where their characteristics are more suitable\n",
        "\n",
        "(1)When you need an ordered collection of items.\n",
        "\n",
        "(2)When the data is sequential or iterable.\n",
        "\n",
        "(3)When you need to store multiple values of the same type.\n",
        "\n",
        "(4)When you need to frequently modify the collection (add, remove, or change elements)."
      ],
      "metadata": {
        "id": "81OpwUJyTj97"
      }
    },
    {
      "cell_type": "markdown",
      "source": [
        "Que 19.) Why are dictionaries considered unordered, and how does that affect data retrieval ?\n",
        "\n",
        "Ans= Dictionaries in Python are considered unordered because the items in a dictionary do not have a fixed position or order. This is in contrast to ordered collections like lists, where elements are stored in a specific sequence and can be accessed by their index position.\n",
        "\n",
        "The unordered nature of dictionaries does not affect the speed or efficiency of key-based lookups. The primary advantage of dictionaries is that they allow constant-time (O(1)) lookups on average, which is fast and efficient, regardless of the order in which the elements were added."
      ],
      "metadata": {
        "id": "rrSFg0EAUrjs"
      }
    },
    {
      "cell_type": "markdown",
      "source": [
        "Que 20.)Explain the difference between a list and a dictionary in terms of data retrieval ?\n",
        "\n",
        "Ans=(1) Data Storage: Ordered collection of items.\n",
        "Unordered collection of key-value pairs.\n",
        "\n",
        "(2) Access Method\t:By index (position).\n",
        "By key (unique identifier).\n",
        "\n",
        "(3) Time Complexity:\tO(1) for index-based retrieval.\n",
        "O(1) for key-based retrieval (on average).\n",
        "\n",
        "(4) Order:\tOrder is preserved (insertion order is important).\n",
        "Order is not guaranteed (before Python 3.7), but insertion order is preserved from Python 3.7 onwards.\n",
        "\n",
        "(5) Use Case:\tWhen the position of elements is important (e.g., a list of numbers or steps).\n",
        "\n",
        "When you need to associate unique keys with values (e.g., a dictionary of names and ages)."
      ],
      "metadata": {
        "id": "59DEL3TZVUnA"
      }
    },
    {
      "cell_type": "markdown",
      "source": [
        "**Practical Questions :**\n",
        "\n",
        "Que 1.) Write a code to create a string with your name and print it."
      ],
      "metadata": {
        "id": "0uFjrRSmWmA1"
      }
    },
    {
      "cell_type": "code",
      "source": [
        "name=\"Rajdeep\"\n",
        "print(name)"
      ],
      "metadata": {
        "colab": {
          "base_uri": "https://localhost:8080/"
        },
        "id": "uNmVkAKLWtYN",
        "outputId": "ed91617e-dcc9-41a1-a07a-542006db80a9"
      },
      "execution_count": null,
      "outputs": [
        {
          "output_type": "stream",
          "name": "stdout",
          "text": [
            "Rajdeep\n"
          ]
        }
      ]
    },
    {
      "cell_type": "markdown",
      "source": [
        "Que 2.)Write a code to find the length of the string \"Hello World\" ?"
      ],
      "metadata": {
        "id": "pSd_KMj6XIhx"
      }
    },
    {
      "cell_type": "code",
      "source": [
        "str1=\"Hello World\"\n",
        "print(len(str1))"
      ],
      "metadata": {
        "colab": {
          "base_uri": "https://localhost:8080/"
        },
        "id": "FifiEwnsXClo",
        "outputId": "f81094c2-3210-4f99-b4b1-47664ccd14d9"
      },
      "execution_count": null,
      "outputs": [
        {
          "output_type": "stream",
          "name": "stdout",
          "text": [
            "11\n"
          ]
        }
      ]
    },
    {
      "cell_type": "markdown",
      "source": [
        "Que 3.) Write a code to slice the first 3 characters from the string \"Python Programming\"?"
      ],
      "metadata": {
        "id": "MForrEesXbWf"
      }
    },
    {
      "cell_type": "code",
      "source": [
        "str1=\"Python Programming\"\n",
        "print(str1[0:3])"
      ],
      "metadata": {
        "colab": {
          "base_uri": "https://localhost:8080/"
        },
        "id": "Fc1EUz9XXVyF",
        "outputId": "892eecad-e990-4a29-968d-fc0e622c833d"
      },
      "execution_count": null,
      "outputs": [
        {
          "output_type": "stream",
          "name": "stdout",
          "text": [
            "Pyt\n"
          ]
        }
      ]
    },
    {
      "cell_type": "markdown",
      "source": [
        "Que 4.) Write a code to convert the string \"hello\" to uppercase ?"
      ],
      "metadata": {
        "id": "FNfS2IBqX0Dz"
      }
    },
    {
      "cell_type": "code",
      "source": [
        "str1=\"Hello\"\n",
        "print(str1.upper())"
      ],
      "metadata": {
        "colab": {
          "base_uri": "https://localhost:8080/"
        },
        "id": "ORwaLc1jXytC",
        "outputId": "79260885-ac56-47f5-bc7c-f0d94cae7d66"
      },
      "execution_count": null,
      "outputs": [
        {
          "output_type": "stream",
          "name": "stdout",
          "text": [
            "HELLO\n"
          ]
        }
      ]
    },
    {
      "cell_type": "markdown",
      "source": [
        "Que 5.) Write a code to replace the word \"apple\" with \"orange\" in the string \"I like apple\" ?"
      ],
      "metadata": {
        "id": "6VuZnR4hYGQC"
      }
    },
    {
      "cell_type": "code",
      "source": [
        "str1=\"I like apple\"\n",
        "print(str1.replace(\"apple\",\"orange\"))"
      ],
      "metadata": {
        "colab": {
          "base_uri": "https://localhost:8080/"
        },
        "id": "ZVqgulQxYEiK",
        "outputId": "41d46e72-fe09-4182-d1c7-cda9100857c8"
      },
      "execution_count": null,
      "outputs": [
        {
          "output_type": "stream",
          "name": "stdout",
          "text": [
            "I like orange\n"
          ]
        }
      ]
    },
    {
      "cell_type": "markdown",
      "source": [
        "Que 6.) Write a code to create a list with numbers 1 to 5 and print it ?"
      ],
      "metadata": {
        "id": "9qK3sgX5YZQt"
      }
    },
    {
      "cell_type": "code",
      "source": [
        "list1=[1,2,3,4,5]\n",
        "print(list1)"
      ],
      "metadata": {
        "colab": {
          "base_uri": "https://localhost:8080/"
        },
        "id": "mZ0WUmjtYYLN",
        "outputId": "31892dc6-b525-41c0-fe56-691c5a01c680"
      },
      "execution_count": null,
      "outputs": [
        {
          "output_type": "stream",
          "name": "stdout",
          "text": [
            "[1, 2, 3, 4, 5]\n"
          ]
        }
      ]
    },
    {
      "cell_type": "markdown",
      "source": [
        "Que 7.) Write a code to append the number 10 to the list [1, 2, 3, 4]?\n"
      ],
      "metadata": {
        "id": "Ot4dt9hXYlRW"
      }
    },
    {
      "cell_type": "code",
      "source": [
        "list1=[1,2,3,4]\n",
        "list1.append(10)\n",
        "print(list1)"
      ],
      "metadata": {
        "colab": {
          "base_uri": "https://localhost:8080/"
        },
        "id": "MnSyf-LYYkTZ",
        "outputId": "b7dd40ed-5834-4004-a61f-30427f4875e9"
      },
      "execution_count": null,
      "outputs": [
        {
          "output_type": "stream",
          "name": "stdout",
          "text": [
            "[1, 2, 3, 4, 10]\n"
          ]
        }
      ]
    },
    {
      "cell_type": "markdown",
      "source": [
        "Que 8.) Write a code to remove the number 3 from the list [1, 2, 3, 4, 5] ?"
      ],
      "metadata": {
        "id": "DEAbk69vY3u7"
      }
    },
    {
      "cell_type": "code",
      "source": [
        "list1=[1,2,3,4,5]\n",
        "list1.remove(3)\n",
        "print(list1)"
      ],
      "metadata": {
        "colab": {
          "base_uri": "https://localhost:8080/"
        },
        "id": "YKtRdoXoYyHU",
        "outputId": "e9c54e97-cd03-4c17-b7a4-21fc8df962a8"
      },
      "execution_count": null,
      "outputs": [
        {
          "output_type": "stream",
          "name": "stdout",
          "text": [
            "[1, 2, 4, 5]\n"
          ]
        }
      ]
    },
    {
      "cell_type": "markdown",
      "source": [
        "Que 9.) Write a code to access the second element in the list ['a', 'b', 'c', 'd']?\n"
      ],
      "metadata": {
        "id": "hxBL0rpwZN3M"
      }
    },
    {
      "cell_type": "code",
      "source": [
        "list1=['a', 'b', 'c', 'd']\n",
        "print(list1[1])"
      ],
      "metadata": {
        "colab": {
          "base_uri": "https://localhost:8080/"
        },
        "id": "uqHtvg1uZGqY",
        "outputId": "29257d55-2fde-4c59-e718-e7899ea6a487"
      },
      "execution_count": null,
      "outputs": [
        {
          "output_type": "stream",
          "name": "stdout",
          "text": [
            "b\n"
          ]
        }
      ]
    },
    {
      "cell_type": "markdown",
      "source": [
        "Que 10.) Write a code to reverse the list [10, 20, 30, 40, 50]?"
      ],
      "metadata": {
        "id": "65lcIvtOZowm"
      }
    },
    {
      "cell_type": "code",
      "source": [
        "list1=[10, 20, 30, 40, 50]\n",
        "list1.reverse()\n",
        "print(list1)"
      ],
      "metadata": {
        "colab": {
          "base_uri": "https://localhost:8080/"
        },
        "id": "rkm-xZakZnq2",
        "outputId": "b66aef43-e7ed-4a40-d92a-e372f175a7b2"
      },
      "execution_count": null,
      "outputs": [
        {
          "output_type": "stream",
          "name": "stdout",
          "text": [
            "[50, 40, 30, 20, 10]\n"
          ]
        }
      ]
    },
    {
      "cell_type": "markdown",
      "source": [
        "Que 11.)Write a code to create a tuple with the elements 100, 200, 300 and print it."
      ],
      "metadata": {
        "id": "8uAjcRw6aB0a"
      }
    },
    {
      "cell_type": "code",
      "source": [
        "tuple1=(100,200,300)\n",
        "print(tuple1)"
      ],
      "metadata": {
        "colab": {
          "base_uri": "https://localhost:8080/"
        },
        "id": "BQ6EBlRuZ6Dk",
        "outputId": "83f8a839-d797-4b8a-ebaa-69c46734efdf"
      },
      "execution_count": null,
      "outputs": [
        {
          "output_type": "stream",
          "name": "stdout",
          "text": [
            "(100, 200, 300)\n"
          ]
        }
      ]
    },
    {
      "cell_type": "markdown",
      "source": [
        "Que 12.) Write a code to access the second-to-last element of the tuple ('red', 'green', 'blue', 'yellow')."
      ],
      "metadata": {
        "id": "zwqqWNItaNxz"
      }
    },
    {
      "cell_type": "code",
      "source": [
        "tuple1=('red', 'green', 'blue', 'yellow')\n",
        "print(tuple1[1:])"
      ],
      "metadata": {
        "colab": {
          "base_uri": "https://localhost:8080/"
        },
        "id": "1JZeAZQGaMu4",
        "outputId": "443828c9-adba-4625-fc65-11ca52c324db"
      },
      "execution_count": null,
      "outputs": [
        {
          "output_type": "stream",
          "name": "stdout",
          "text": [
            "('green', 'blue', 'yellow')\n"
          ]
        }
      ]
    },
    {
      "cell_type": "markdown",
      "source": [
        "Que 13.)  Write a code to find the minimum number in the tuple (10, 20, 5, 15)"
      ],
      "metadata": {
        "id": "-Jl5hYB4antZ"
      }
    },
    {
      "cell_type": "code",
      "source": [
        "tuple1=(10, 20, 5, 15)\n",
        "print(min(tuple1))"
      ],
      "metadata": {
        "colab": {
          "base_uri": "https://localhost:8080/"
        },
        "id": "bxiHvn8KagWW",
        "outputId": "4dc33008-099b-4413-8ed2-029f4a0c4d44"
      },
      "execution_count": null,
      "outputs": [
        {
          "output_type": "stream",
          "name": "stdout",
          "text": [
            "5\n"
          ]
        }
      ]
    },
    {
      "cell_type": "markdown",
      "source": [
        "Que 14.)Write a code to find the index of the element \"cat\" in the tuple ('dog', 'cat', 'rabbit')."
      ],
      "metadata": {
        "id": "9hm8vFhEa4Nd"
      }
    },
    {
      "cell_type": "code",
      "source": [
        "tuple1= ('dog', 'cat', 'rabbit')\n",
        "print(tuple1.index('cat'))"
      ],
      "metadata": {
        "colab": {
          "base_uri": "https://localhost:8080/"
        },
        "id": "nwcXzbu6azek",
        "outputId": "5fb13916-fd57-4c28-f9c9-05bb82f659b2"
      },
      "execution_count": null,
      "outputs": [
        {
          "output_type": "stream",
          "name": "stdout",
          "text": [
            "1\n"
          ]
        }
      ]
    },
    {
      "cell_type": "markdown",
      "source": [
        "Que 15.)Write a code to create a tuple containing three different fruits and check if \"kiwi\" is in it."
      ],
      "metadata": {
        "id": "y68sDmlubK-A"
      }
    },
    {
      "cell_type": "code",
      "source": [
        "tuple1=(\"apple\",\"orange\",\"kiwi\")\n",
        "if \"kiwi\" in tuple1:\n",
        "    print(\"kiwi is in tuple1\")\n",
        "else:\n",
        "    print(\"kiwi is not in tuple1\")"
      ],
      "metadata": {
        "colab": {
          "base_uri": "https://localhost:8080/"
        },
        "id": "rWq5d0hdbHCe",
        "outputId": "df610eff-5944-4260-eac9-8cb3ee986a44"
      },
      "execution_count": null,
      "outputs": [
        {
          "output_type": "stream",
          "name": "stdout",
          "text": [
            "kiwi is in tuple1\n"
          ]
        }
      ]
    },
    {
      "cell_type": "markdown",
      "source": [
        "Que 16.) Write a code to create a set with the elements 'a', 'b', 'c' and print it."
      ],
      "metadata": {
        "id": "ME-ewMPPb1-3"
      }
    },
    {
      "cell_type": "code",
      "source": [
        "set1={'a','b','c'}\n",
        "print(set1)"
      ],
      "metadata": {
        "colab": {
          "base_uri": "https://localhost:8080/"
        },
        "id": "tph-9Yhvbw-d",
        "outputId": "705b3235-ca70-43c1-b6ee-d6874f28969a"
      },
      "execution_count": null,
      "outputs": [
        {
          "output_type": "stream",
          "name": "stdout",
          "text": [
            "{'a', 'c', 'b'}\n"
          ]
        }
      ]
    },
    {
      "cell_type": "markdown",
      "source": [
        "Que 17.) Write a code to clear all elements from the set {1, 2, 3, 4, 5}."
      ],
      "metadata": {
        "id": "3IDc6w9-cJMN"
      }
    },
    {
      "cell_type": "code",
      "source": [
        "set1={1,2,3,4,5}\n",
        "print(set1.clear())"
      ],
      "metadata": {
        "colab": {
          "base_uri": "https://localhost:8080/"
        },
        "id": "O95szoBccAQ2",
        "outputId": "ebdb648d-eb3f-424e-a2d7-c93b748b8f4f"
      },
      "execution_count": null,
      "outputs": [
        {
          "output_type": "stream",
          "name": "stdout",
          "text": [
            "None\n"
          ]
        }
      ]
    },
    {
      "cell_type": "markdown",
      "source": [
        "Que 18.) Write a code to remove the element 4 from the set {1, 2, 3, 4}."
      ],
      "metadata": {
        "id": "buL5kSKncVoT"
      }
    },
    {
      "cell_type": "code",
      "source": [
        "set1={1, 2, 3, 4}\n",
        "set1.remove(4)\n",
        "print(set1)"
      ],
      "metadata": {
        "colab": {
          "base_uri": "https://localhost:8080/"
        },
        "id": "SrY4BaXGcRKw",
        "outputId": "18f38712-c9b9-463b-ff70-cfff25e5440c"
      },
      "execution_count": null,
      "outputs": [
        {
          "output_type": "stream",
          "name": "stdout",
          "text": [
            "{1, 2, 3}\n"
          ]
        }
      ]
    },
    {
      "cell_type": "markdown",
      "source": [
        "Que 19.)Write a code to find the union of two sets {1, 2, 3} and {3, 4, 5}."
      ],
      "metadata": {
        "id": "Gu_edcUtdoTw"
      }
    },
    {
      "cell_type": "code",
      "source": [
        "set1= {1, 2, 3}\n",
        "set2={3, 4, 5}\n",
        "print(set1.union(set2))"
      ],
      "metadata": {
        "colab": {
          "base_uri": "https://localhost:8080/"
        },
        "id": "eOhx16iZcfzK",
        "outputId": "b711d104-de5b-42db-b692-8ee81890f146"
      },
      "execution_count": null,
      "outputs": [
        {
          "output_type": "stream",
          "name": "stdout",
          "text": [
            "{1, 2, 3, 4, 5}\n"
          ]
        }
      ]
    },
    {
      "cell_type": "markdown",
      "source": [
        "Que 20.)Write a code to find the intersection of two sets {1, 2, 3} and {2, 3, 4}"
      ],
      "metadata": {
        "id": "y5g0oUyFd8Jr"
      }
    },
    {
      "cell_type": "code",
      "source": [
        "set1={1,2,3}\n",
        "set2={2,3,4}\n",
        "print(set1.intersection(set2))"
      ],
      "metadata": {
        "colab": {
          "base_uri": "https://localhost:8080/"
        },
        "id": "rUzVKEn6d3UE",
        "outputId": "3622b0cf-f5c9-41ab-8c41-c8f62a5b687f"
      },
      "execution_count": null,
      "outputs": [
        {
          "output_type": "stream",
          "name": "stdout",
          "text": [
            "{2, 3}\n"
          ]
        }
      ]
    },
    {
      "cell_type": "markdown",
      "source": [
        "Que 21.) Write a code to create a dictionary with the keys \"name\", \"age\", and \"city\", and print it."
      ],
      "metadata": {
        "id": "YqjtG2kjeKfq"
      }
    },
    {
      "cell_type": "code",
      "source": [
        "dict1={\"name\":\"Rajdeep\",\"age\":18,\"city\":\"Harda\"}\n",
        "print(dict1)"
      ],
      "metadata": {
        "colab": {
          "base_uri": "https://localhost:8080/"
        },
        "id": "rf4tfJjceI9X",
        "outputId": "014b10f3-255a-46b5-b75f-08a40c205366"
      },
      "execution_count": null,
      "outputs": [
        {
          "output_type": "stream",
          "name": "stdout",
          "text": [
            "{'name': 'Rajdeep', 'age': 18, 'city': 'Harda'}\n"
          ]
        }
      ]
    },
    {
      "cell_type": "markdown",
      "source": [
        "Que 22.)Write a code to add a new key-value pair \"country\": \"USA\" to the dictionary {'name': 'John', 'age': 25}."
      ],
      "metadata": {
        "id": "LHLlfEPVenIE"
      }
    },
    {
      "cell_type": "code",
      "source": [
        "dict1= {'name': 'John', 'age': 25}\n",
        "dict1[\"country\"]=\"USA\"\n",
        "print(dict1)"
      ],
      "metadata": {
        "colab": {
          "base_uri": "https://localhost:8080/"
        },
        "id": "8r2tSLs5eiTa",
        "outputId": "520313cc-0f98-4d8f-cc68-d3866f7b5419"
      },
      "execution_count": null,
      "outputs": [
        {
          "output_type": "stream",
          "name": "stdout",
          "text": [
            "{'name': 'John', 'age': 25, 'country': 'USA'}\n"
          ]
        }
      ]
    },
    {
      "cell_type": "markdown",
      "source": [
        "Que 23.) Write a code to access the value associated with the key \"name\" in the dictionary {'name': 'Alice', 'age': 30}."
      ],
      "metadata": {
        "id": "-FVNgSdke3JF"
      }
    },
    {
      "cell_type": "code",
      "source": [
        "dict1= {'name': 'Alice', 'age': 30}\n",
        "print(dict1['name'])"
      ],
      "metadata": {
        "colab": {
          "base_uri": "https://localhost:8080/"
        },
        "id": "puet9H0Oe2GB",
        "outputId": "137b2dd4-b1c2-48a3-95ca-23eb23600d45"
      },
      "execution_count": null,
      "outputs": [
        {
          "output_type": "stream",
          "name": "stdout",
          "text": [
            "Alice\n"
          ]
        }
      ]
    },
    {
      "cell_type": "markdown",
      "source": [
        "Que 24.)Write a code to remove the key \"age\" from the dictionary {'name': 'Bob', 'age': 22, 'city': 'New York'}."
      ],
      "metadata": {
        "id": "evhdb-xqfMJf"
      }
    },
    {
      "cell_type": "code",
      "source": [
        "dict1={'name': 'Bob', 'age': 22, 'city': 'New York'}\n",
        "dict1.pop('age')\n",
        "print(dict1)"
      ],
      "metadata": {
        "colab": {
          "base_uri": "https://localhost:8080/"
        },
        "id": "6Y1YfmivfImP",
        "outputId": "48c3b32e-c8de-4636-fbf2-de7ed9cfac57"
      },
      "execution_count": null,
      "outputs": [
        {
          "output_type": "stream",
          "name": "stdout",
          "text": [
            "{'name': 'Bob', 'city': 'New York'}\n"
          ]
        }
      ]
    },
    {
      "cell_type": "markdown",
      "source": [
        "Que 25.)Write a code to check if the key \"city\" exists in the dictionary {'name': 'Alice', 'city': 'Paris'}"
      ],
      "metadata": {
        "id": "aEtsGFnofbHL"
      }
    },
    {
      "cell_type": "code",
      "source": [
        "dict1={'name': 'Alice', 'city': 'Paris'}\n",
        "if \"city\" in dict1.keys():\n",
        "   print(\"the key city are present in the dict1\")\n",
        "else:\n",
        "   print(\"the key city are not present in the dict1\")"
      ],
      "metadata": {
        "colab": {
          "base_uri": "https://localhost:8080/"
        },
        "id": "2XC8z-wxfXvt",
        "outputId": "7b738b91-71c2-4a5c-9b86-472066655e24"
      },
      "execution_count": null,
      "outputs": [
        {
          "output_type": "stream",
          "name": "stdout",
          "text": [
            "the key city are present in the dict1\n"
          ]
        }
      ]
    },
    {
      "cell_type": "markdown",
      "source": [
        "Que 26.) Write a code to create a list, a tuple, and a dictionary, and print them all."
      ],
      "metadata": {
        "id": "IpJ-bkrMf7AD"
      }
    },
    {
      "cell_type": "code",
      "source": [
        "list1=[1,2,3,4,5]\n",
        "tupl1=(1,2,3,4,5)\n",
        "dict1={1:1,2:2,3:3,4:4,5:5}\n",
        "print(list1)\n",
        "print(tuple1)\n",
        "print(dict1)"
      ],
      "metadata": {
        "colab": {
          "base_uri": "https://localhost:8080/"
        },
        "id": "cAjkBcpLf2de",
        "outputId": "b27c8608-2240-48e5-964f-df59a53372a0"
      },
      "execution_count": null,
      "outputs": [
        {
          "output_type": "stream",
          "name": "stdout",
          "text": [
            "[1, 2, 3, 4, 5]\n",
            "('apple', 'orange', 'kiwi')\n",
            "{1: 1, 2: 2, 3: 3, 4: 4, 5: 5}\n"
          ]
        }
      ]
    },
    {
      "cell_type": "markdown",
      "source": [
        "Que 27.)Write a code to create a list of 5 random numbers between 1 and 100, sort it in ascending order, and print the\n",
        "result.(replaced)"
      ],
      "metadata": {
        "id": "OUGimYuTgT0_"
      }
    },
    {
      "cell_type": "code",
      "source": [
        "list1=[16,96,93,93,28]\n",
        "list1.sort()\n",
        "print(list1)"
      ],
      "metadata": {
        "colab": {
          "base_uri": "https://localhost:8080/"
        },
        "id": "E-sRkS5WgPPi",
        "outputId": "61ef5b77-5546-4952-8c56-4ebc00074b1d"
      },
      "execution_count": null,
      "outputs": [
        {
          "output_type": "stream",
          "name": "stdout",
          "text": [
            "[16, 28, 93, 93, 96]\n"
          ]
        }
      ]
    },
    {
      "cell_type": "markdown",
      "source": [
        "Que 28.)Write a code to create a list with strings and print the element at the third index"
      ],
      "metadata": {
        "id": "WdcRw2qShGYr"
      }
    },
    {
      "cell_type": "code",
      "source": [
        "list1=[\"Rajdeep\",\"kuldeep\",\"Prashant\",\"vinit\"]\n",
        "print(list1[3])"
      ],
      "metadata": {
        "colab": {
          "base_uri": "https://localhost:8080/"
        },
        "id": "OlkmpTengr0c",
        "outputId": "6e853d90-39d9-4f58-9c4e-06ae4ce680c4"
      },
      "execution_count": null,
      "outputs": [
        {
          "output_type": "stream",
          "name": "stdout",
          "text": [
            "vinit\n"
          ]
        }
      ]
    },
    {
      "cell_type": "markdown",
      "source": [
        "Que 29.)Write a code to combine two dictionaries into one and print the result"
      ],
      "metadata": {
        "id": "AAb-2mC2hhJu"
      }
    },
    {
      "cell_type": "code",
      "source": [
        "dict1={'name': 'Alice', 'city': 'Paris'}\n",
        "dict2={1:2,3:4,5:6}\n",
        "dict1.update(dict2)\n",
        "print(dict1)"
      ],
      "metadata": {
        "colab": {
          "base_uri": "https://localhost:8080/"
        },
        "id": "6dk2kTuBhXAI",
        "outputId": "01f7752c-0e63-4e3c-dfa4-cac992e150c7"
      },
      "execution_count": null,
      "outputs": [
        {
          "output_type": "stream",
          "name": "stdout",
          "text": [
            "{'name': 'Alice', 'city': 'Paris', 1: 2, 3: 4, 5: 6}\n"
          ]
        }
      ]
    },
    {
      "cell_type": "markdown",
      "source": [
        "Que 30.)Write a code to convert a list of strings into a set."
      ],
      "metadata": {
        "id": "4kJNd2w2iGnI"
      }
    },
    {
      "cell_type": "code",
      "source": [
        "list1=[\"Rajdeep\",\"kuldeep\",\"Prashant\",\"vinit\"]\n",
        "print(set(list1))"
      ],
      "metadata": {
        "colab": {
          "base_uri": "https://localhost:8080/"
        },
        "id": "E-uJ0VdUh_KL",
        "outputId": "3e38c1f5-7094-455b-e919-3a0a3ee234fc"
      },
      "execution_count": null,
      "outputs": [
        {
          "output_type": "stream",
          "name": "stdout",
          "text": [
            "{'Rajdeep', 'Prashant', 'vinit', 'kuldeep'}\n"
          ]
        }
      ]
    },
    {
      "cell_type": "code",
      "source": [],
      "metadata": {
        "id": "zi1MYhCOiVKQ"
      },
      "execution_count": null,
      "outputs": []
    }
  ]
}